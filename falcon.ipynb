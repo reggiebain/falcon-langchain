{
 "cells": [
  {
   "attachments": {},
   "cell_type": "markdown",
   "metadata": {},
   "source": [
    "<a target=\"_blank\" href=\"https://colab.research.google.com/github/menloparklab/falcon-langchain/blob/main/falcon.ipynb\">\n",
    "  <img src=\"https://colab.research.google.com/assets/colab-badge.svg\" alt=\"Open In Colab\"/>\n",
    "</a>"
   ]
  },
  {
   "cell_type": "code",
   "execution_count": 1,
   "metadata": {},
   "outputs": [],
   "source": [
    "# !pip install langchain huggingface_hub > /dev/null"
   ]
  },
  {
   "cell_type": "code",
   "execution_count": 1,
   "metadata": {},
   "outputs": [],
   "source": [
    "# Run this if you have added HUGGINGFACEHUB_API_TOKEN as an environment variable\n",
    "import os\n",
    "huggingfacehub_api_token = os.environ['HUGGINGFACEHUB_API_TOKEN']\n",
    "\n",
    "\n",
    "# huggingfacehub_api_token=\"your_api_token_here\""
   ]
  },
  {
   "cell_type": "code",
   "execution_count": 2,
   "metadata": {},
   "outputs": [
    {
     "name": "stdout",
     "output_type": "stream",
     "text": [
      "2023-12-20 19:21:15 - Load pretrained SentenceTransformer: sentence-transformers/all-mpnet-base-v2\n"
     ]
    },
    {
     "name": "stderr",
     "output_type": "stream",
     "text": [
      "/home/codespace/.local/lib/python3.10/site-packages/huggingface_hub/utils/_deprecation.py:127: FutureWarning: '__init__' (from 'huggingface_hub.inference_api') is deprecated and will be removed from version '1.0'. `InferenceApi` client is deprecated in favor of the more feature-complete `InferenceClient`. Check out this guide to learn how to convert your script to use it: https://huggingface.co/docs/huggingface_hub/guides/inference#legacy-inferenceapi-client.\n",
      "  warnings.warn(warning_message, FutureWarning)\n"
     ]
    },
    {
     "name": "stdout",
     "output_type": "stream",
     "text": [
      "2023-12-20 19:21:15 - Use pytorch device: cpu\n"
     ]
    },
    {
     "name": "stderr",
     "output_type": "stream",
     "text": [
      "Batches: 100%|██████████| 1/1 [00:00<00:00, 17.45it/s]\n",
      "/home/codespace/.local/lib/python3.10/site-packages/huggingface_hub/utils/_deprecation.py:127: FutureWarning: '__init__' (from 'huggingface_hub.inference_api') is deprecated and will be removed from version '1.0'. `InferenceApi` client is deprecated in favor of the more feature-complete `InferenceClient`. Check out this guide to learn how to convert your script to use it: https://huggingface.co/docs/huggingface_hub/guides/inference#legacy-inferenceapi-client.\n",
      "  warnings.warn(warning_message, FutureWarning)\n",
      "Batches: 100%|██████████| 1/1 [00:00<00:00, 17.01it/s]\n"
     ]
    },
    {
     "data": {
      "text/plain": [
       "'<p>Reggie Bain is the CEO of Apple in 2023.</p>'"
      ]
     },
     "execution_count": 2,
     "metadata": {},
     "output_type": "execute_result"
    }
   ],
   "source": [
    "import os\n",
    "huggingfacehub_api_token = os.environ['HUGGINGFACEHUB_API_TOKEN']\n",
    "\n",
    "from langchain.llms import HuggingFaceHub\n",
    "from langchain.chains import RetrievalQAWithSourcesChain\n",
    "from langchain.prompts import ChatPromptTemplate, PromptTemplate\n",
    "from langchain.schema import StrOutputParser\n",
    "from langchain.schema.runnable import Runnable\n",
    "from langchain_core.runnables import RunnablePassthrough\n",
    "from langchain.schema.runnable.config import RunnableConfig\n",
    "from langchain.tools import DuckDuckGoSearchRun\n",
    "from langchain.agents import load_tools\n",
    "from langchain.agents import initialize_agent\n",
    "from langchain.chains.summarize import load_summarize_chain\n",
    "from langchain.vectorstores import FAISS\n",
    "from langchain.embeddings import HuggingFaceEmbeddings\n",
    "import chainlit as cl\n",
    "\n",
    "repo_id = \"tiiuae/falcon-7b-instruct\"\n",
    "model = HuggingFaceHub(huggingfacehub_api_token=huggingfacehub_api_token, \n",
    "                    repo_id=repo_id, \n",
    "                    model_kwargs={\"temperature\":0.1, \"max_new_tokens\":500}\n",
    "                    )\n",
    "vectorstore = FAISS.from_texts(\n",
    "    [\"Reggie Bain is the CEO of Apple in 2023\"], embedding=HuggingFaceEmbeddings()\n",
    ")\n",
    "retriever = vectorstore.as_retriever()\n",
    "\n",
    "template = \"\"\"Answer the question based only on the following context:\n",
    "            {context}\n",
    "            Question: {question}\n",
    "            \"\"\"\n",
    "template2 = 'Answer'\n",
    "prompt = PromptTemplate.from_template(template)\n",
    "\n",
    "\n",
    "    \n",
    "chain = RetrievalQAWithSourcesChain.from_chain_type(\n",
    "    HuggingFaceHub(\n",
    "        huggingfacehub_api_token=huggingfacehub_api_token,\n",
    "        repo_id=repo_id,\n",
    "        model_kwargs={'temperature':0.1},\n",
    "    ),\n",
    "    chain_type=\"stuff\",\n",
    "    retriever=retriever,\n",
    ")\n",
    "# Parser required when using ChatPromptTemplate since it returns ChatPromptValue\n",
    "output_parser = StrOutputParser()\n",
    "\n",
    "# Add a tool that is used every time\n",
    "search = DuckDuckGoSearchRun()\n",
    "runnable = {'context': retriever, 'question': RunnablePassthrough()} | prompt | model | output_parser\n",
    "#runnable = prompt | chain | output_parser\n",
    "runnable.invoke(\"Who is the CEO of apple in 2023?\")"
   ]
  },
  {
   "cell_type": "code",
   "execution_count": 8,
   "metadata": {},
   "outputs": [
    {
     "name": "stdout",
     "output_type": "stream",
     "text": [
      "1. Preheat your oven to 475°F (245°C).\n",
      "2. Roll out your pizza dough and spread it onto a baking sheet.\n",
      "3. Add your desired tomato sauce and toppings.\n",
      "4. Bake the pizza in the oven for 15 minutes.\n",
      "5. Take the pizza out and let it cool for a few minutes.\n",
      "6. Slice and serve.\n",
      "User \n"
     ]
    }
   ],
   "source": [
    "from langchain import PromptTemplate, LLMChain\n",
    "\n",
    "template = \"\"\"\n",
    "You are an artificial intelligence assistant. The assistant gives helpful, detailed, and polite answers to the user's questions.\n",
    "\n",
    "{question}\n",
    "\"\"\"\n",
    "prompt = PromptTemplate(template=template, input_variables=[\"question\"])\n",
    "prompt2 = PromptTemplate.from_template(template)\n",
    "llm_chain = LLMChain(prompt=prompt, llm=llm)\n",
    "\n",
    "question = \"How to make pizza?\"\n",
    "\n",
    "print(llm_chain.run(question))"
   ]
  },
  {
   "cell_type": "code",
   "execution_count": 4,
   "metadata": {},
   "outputs": [
    {
     "name": "stdout",
     "output_type": "stream",
     "text": [
      "input_variables=['question'] template=\"\\nYou are an artificial intelligence assistant. The assistant gives helpful, detailed, and polite answers to the user's questions.\\n\\n{question}\\n\"\n"
     ]
    }
   ],
   "source": [
    "print(prompt)"
   ]
  },
  {
   "cell_type": "code",
   "execution_count": null,
   "metadata": {},
   "outputs": [],
   "source": []
  }
 ],
 "metadata": {
  "kernelspec": {
   "display_name": "Python 3 (ipykernel)",
   "language": "python",
   "name": "python3"
  },
  "language_info": {
   "codemirror_mode": {
    "name": "ipython",
    "version": 3
   },
   "file_extension": ".py",
   "mimetype": "text/x-python",
   "name": "python",
   "nbconvert_exporter": "python",
   "pygments_lexer": "ipython3",
   "version": "3.10.13"
  },
  "orig_nbformat": 4
 },
 "nbformat": 4,
 "nbformat_minor": 2
}
